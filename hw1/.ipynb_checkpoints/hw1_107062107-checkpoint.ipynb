{
 "cells": [
  {
   "cell_type": "markdown",
   "metadata": {
    "id": "zTvIwDlYvBzC"
   },
   "source": [
    "# Initial Setup\n",
    "\n",
    "1. Import the CIFAR10 dataset.\n",
    "2. Train a simple CNN (LeNet) to classify it."
   ]
  },
  {
   "cell_type": "code",
   "execution_count": 1,
   "metadata": {
    "id": "hbiiMcdNJI--"
   },
   "outputs": [],
   "source": [
    "import torch\n",
    "import torchvision\n",
    "import torchvision.transforms as transforms\n",
    "import torch.nn as nn\n",
    "import torch.nn.functional as F\n",
    "import torch.optim as optim"
   ]
  },
  {
   "cell_type": "markdown",
   "metadata": {
    "id": "FG3WW1Owq1Fh"
   },
   "source": [
    "**Note:** set the runtime type to \"GPU\" to run your code faster."
   ]
  },
  {
   "cell_type": "code",
   "execution_count": 2,
   "metadata": {
    "id": "A3RF5VmcoUMG"
   },
   "outputs": [],
   "source": [
    "if torch.cuda.is_available():\n",
    "    device = torch.device('cuda')\n",
    "else:\n",
    "    device = torch.device('cpu')"
   ]
  },
  {
   "cell_type": "markdown",
   "metadata": {
    "id": "nCaMDWYArEXO"
   },
   "source": [
    "Load training and test data from the CIFAR10 dataset."
   ]
  },
  {
   "cell_type": "code",
   "execution_count": 3,
   "metadata": {
    "colab": {
     "base_uri": "https://localhost:8080/",
     "height": 124,
     "referenced_widgets": [
      "aa67fcb9865741f9b4cdb437a0e85adb",
      "981d0bef318b4ff797789b7b20d0e375",
      "d5709ece3fad48ad991e8706320e7e8e",
      "f2941dc8f87b4ff78e923d5410a9eab6",
      "1be0e90dba3441949bbdbb2bf818c8a9",
      "0f00480036cc40e8bd1893905b32a530",
      "0f6ebbec7d74495dac9791ddaf66d094",
      "327face525f942e79f28c625e3c538d6"
     ]
    },
    "id": "_5UuOjjrnogR",
    "outputId": "fa54f7a2-7b16-4710-bb58-545e50f7fd6b"
   },
   "outputs": [
    {
     "name": "stdout",
     "output_type": "stream",
     "text": [
      "Downloading https://www.cs.toronto.edu/~kriz/cifar-10-python.tar.gz to ./data/cifar-10-python.tar.gz\n"
     ]
    },
    {
     "data": {
      "application/vnd.jupyter.widget-view+json": {
       "model_id": "aa67fcb9865741f9b4cdb437a0e85adb",
       "version_major": 2,
       "version_minor": 0
      },
      "text/plain": [
       "HBox(children=(FloatProgress(value=0.0, max=170498071.0), HTML(value='')))"
      ]
     },
     "metadata": {
      "tags": []
     },
     "output_type": "display_data"
    },
    {
     "name": "stdout",
     "output_type": "stream",
     "text": [
      "\n",
      "Extracting ./data/cifar-10-python.tar.gz to ./data\n",
      "Files already downloaded and verified\n"
     ]
    }
   ],
   "source": [
    "transform = transforms.Compose(\n",
    "    [transforms.ToTensor(),\n",
    "     transforms.Normalize((0.5, 0.5, 0.5), (0.5, 0.5, 0.5))])\n",
    "\n",
    "trainset = torchvision.datasets.CIFAR10(root='./data', train=True,\n",
    "                                        download=True, transform=transform)\n",
    "trainloader = torch.utils.data.DataLoader(trainset, batch_size=4,\n",
    "                                          shuffle=True, num_workers=2)\n",
    "\n",
    "testset = torchvision.datasets.CIFAR10(root='./data', train=False,\n",
    "                                       download=True, transform=transform)\n",
    "testloader = torch.utils.data.DataLoader(testset, batch_size=4,\n",
    "                                         shuffle=False, num_workers=2)"
   ]
  },
  {
   "cell_type": "markdown",
   "metadata": {
    "id": "l62CkyIwtSOv"
   },
   "source": [
    "Define a simple CNN that classifies CIFAR images."
   ]
  },
  {
   "cell_type": "code",
   "execution_count": 4,
   "metadata": {
    "id": "9fL3F-7Rntog"
   },
   "outputs": [],
   "source": [
    "class Net(nn.Module):\n",
    "    def __init__(self):\n",
    "        super(Net, self).__init__()\n",
    "        self.conv1 = nn.Conv2d(3, 6, 5, bias=False)\n",
    "        self.pool = nn.MaxPool2d(2, 2)\n",
    "        self.conv2 = nn.Conv2d(6, 16, 5, bias=False)\n",
    "        self.fc1 = nn.Linear(16 * 5 * 5, 120, bias=False)\n",
    "        self.fc2 = nn.Linear(120, 84, bias=False)\n",
    "        self.fc3 = nn.Linear(84, 10, bias=False)\n",
    "\n",
    "    def forward(self, x: torch.Tensor) -> torch.Tensor:\n",
    "        x = self.pool(F.relu(self.conv1(x)))\n",
    "        x = self.pool(F.relu(self.conv2(x)))\n",
    "        x = x.view(-1, 16 * 5 * 5)\n",
    "        x = F.relu(self.fc1(x))\n",
    "        x = F.relu(self.fc2(x))\n",
    "        x = self.fc3(x)\n",
    "        return x\n",
    "\n",
    "net = Net().to(device)"
   ]
  },
  {
   "cell_type": "markdown",
   "metadata": {
    "id": "Nijieuxptag6"
   },
   "source": [
    "Train this CNN on the training dataset (this may take a few moments)."
   ]
  },
  {
   "cell_type": "code",
   "execution_count": 5,
   "metadata": {
    "id": "CzK6ohj5oNCT"
   },
   "outputs": [],
   "source": [
    "from torch.utils.data import DataLoader\n",
    "\n",
    "def train(model: nn.Module, dataloader: DataLoader):\n",
    "    criterion = nn.CrossEntropyLoss()\n",
    "    optimizer = optim.SGD(model.parameters(), lr=0.001, momentum=0.9)\n",
    "\n",
    "    for epoch in range(2):  # loop over the dataset multiple times\n",
    "\n",
    "        running_loss = 0.0\n",
    "        for i, data in enumerate(dataloader, 0):\n",
    "            # get the inputs; data is a list of [inputs, labels]\n",
    "            inputs, labels = data\n",
    "\n",
    "            inputs = inputs.to(device)\n",
    "            labels = labels.to(device)\n",
    "\n",
    "            # zero the parameter gradients\n",
    "            optimizer.zero_grad()\n",
    "\n",
    "            # forward + backward + optimize\n",
    "            outputs = model(inputs)\n",
    "            loss = criterion(outputs, labels)\n",
    "            loss.backward()\n",
    "            optimizer.step()\n",
    "\n",
    "            # print statistics\n",
    "            running_loss += loss.item()\n",
    "            if i % 2000 == 1999:    # print every 2000 mini-batches\n",
    "                print('[%d, %5d] loss: %.3f' %\n",
    "                    (epoch + 1, i + 1, running_loss / 2000))\n",
    "                running_loss = 0.0\n",
    "\n",
    "    print('Finished Training')\n",
    "\n",
    "def test(model: nn.Module, dataloader: DataLoader, max_samples=None) -> float:\n",
    "    correct = 0\n",
    "    total = 0\n",
    "    n_inferences = 0\n",
    "\n",
    "    with torch.no_grad():\n",
    "        for data in dataloader:\n",
    "            images, labels = data\n",
    "\n",
    "            images = images.to(device)\n",
    "            labels = labels.to(device)\n",
    "\n",
    "            outputs = model(images)\n",
    "            _, predicted = torch.max(outputs.data, 1)\n",
    "            total += labels.size(0)\n",
    "            correct += (predicted == labels).sum().item()\n",
    "\n",
    "            if max_samples:\n",
    "                n_inferences += images.shape[0]\n",
    "                if n_inferences > max_samples:\n",
    "                    break\n",
    "    \n",
    "    return 100 * correct / total"
   ]
  },
  {
   "cell_type": "code",
   "execution_count": 6,
   "metadata": {
    "colab": {
     "base_uri": "https://localhost:8080/"
    },
    "id": "HixhBHaqtmZU",
    "outputId": "f2d7e090-1847-4adb-f3c3-0d760aa75b62"
   },
   "outputs": [
    {
     "name": "stdout",
     "output_type": "stream",
     "text": [
      "[1,  2000] loss: 2.283\n",
      "[1,  4000] loss: 2.025\n",
      "[1,  6000] loss: 1.762\n",
      "[1,  8000] loss: 1.650\n",
      "[1, 10000] loss: 1.573\n",
      "[1, 12000] loss: 1.513\n",
      "[2,  2000] loss: 1.446\n",
      "[2,  4000] loss: 1.407\n",
      "[2,  6000] loss: 1.379\n",
      "[2,  8000] loss: 1.357\n",
      "[2, 10000] loss: 1.334\n",
      "[2, 12000] loss: 1.318\n",
      "Finished Training\n"
     ]
    }
   ],
   "source": [
    "train(net, trainloader)"
   ]
  },
  {
   "cell_type": "markdown",
   "metadata": {
    "id": "EJggxnCVuRxU"
   },
   "source": [
    "Now that the CNN has been trained, let's test it on the test dataset."
   ]
  },
  {
   "cell_type": "code",
   "execution_count": 7,
   "metadata": {
    "colab": {
     "base_uri": "https://localhost:8080/"
    },
    "id": "y27_n-djuEdz",
    "outputId": "d60f8258-d935-4835-a165-a47b970d4e28"
   },
   "outputs": [
    {
     "name": "stdout",
     "output_type": "stream",
     "text": [
      "Accuracy of the network on the test images: 54.73%\n"
     ]
    }
   ],
   "source": [
    "score = test(net, testloader)\n",
    "print('Accuracy of the network on the test images: {}%'.format(score))"
   ]
  },
  {
   "cell_type": "code",
   "execution_count": 8,
   "metadata": {
    "id": "ZVWbC5YWT-MU"
   },
   "outputs": [],
   "source": [
    "from copy import deepcopy\n",
    "\n",
    "# A convenience function which we use to copy CNNs\n",
    "def copy_model(model: nn.Module) -> nn.Module:\n",
    "    result = deepcopy(model)\n",
    "\n",
    "    # Copy over the extra metadata we've collected which copy.deepcopy doesn't capture\n",
    "    if hasattr(model, 'input_activations'):\n",
    "        result.input_activations = deepcopy(model.input_activations)\n",
    "\n",
    "    for result_layer, original_layer in zip(result.children(), model.children()):\n",
    "        if isinstance(result_layer, nn.Conv2d) or isinstance(result_layer, nn.Linear):\n",
    "            if hasattr(original_layer.weight, 'scale'):\n",
    "                result_layer.weight.scale = deepcopy(original_layer.weight.scale)\n",
    "            if hasattr(original_layer, 'activations'):\n",
    "                result_layer.activations = deepcopy(original_layer.activations)\n",
    "            if hasattr(original_layer, 'output_scale'):\n",
    "                result_layer.output_scale = deepcopy(original_layer.output_scale)\n",
    "\n",
    "    return result"
   ]
  },
  {
   "cell_type": "markdown",
   "metadata": {
    "id": "SQZoEjBSveV8"
   },
   "source": [
    "# Question 1: Visualize Weights"
   ]
  },
  {
   "cell_type": "code",
   "execution_count": 9,
   "metadata": {
    "id": "5qKRX7ply7I2"
   },
   "outputs": [],
   "source": [
    "import matplotlib.pyplot as plt\n",
    "import numpy as np"
   ]
  },
  {
   "cell_type": "code",
   "execution_count": 10,
   "metadata": {
    "colab": {
     "base_uri": "https://localhost:8080/",
     "height": 1000
    },
    "id": "N2h7zJ8m3GAF",
    "outputId": "941e7dfa-7283-4a04-bbab-c9e0d18bc321"
   },
   "outputs": [
    {
     "data": {
      "image/png": "[encoded data removed]",
      "text/plain": [
       "<Figure size 432x288 with 1 Axes>"
      ]
     },
     "metadata": {
      "needs_background": "light",
      "tags": []
     },
     "output_type": "display_data"
    },
    {
     "name": "stdout",
     "output_type": "stream",
     "text": [
      "conv1_weights range : tensor(-0.7375)  ~  tensor(0.5389)\n",
      "conv1_weights mean : tensor(0.0006)\n",
      "conv1_weights std : tensor(0.2163)\n",
      "conv1_weights 3 sigma range : tensor(-0.6484)  ~  tensor(0.6496)\n"
     ]
    },
    {
     "data": {
      "image/png": "[encoded data removed]",
      "text/plain": [
       "<Figure size 432x288 with 1 Axes>"
      ]
     },
     "metadata": {
      "needs_background": "light",
      "tags": []
     },
     "output_type": "display_data"
    },
    {
     "name": "stdout",
     "output_type": "stream",
     "text": [
      "conv2_weights range : tensor(-0.6424)  ~  tensor(0.5521)\n",
      "conv2_weights mean : tensor(-0.0136)\n",
      "conv2_weights std : tensor(0.1137)\n",
      "conv2_weights 3 sigma range : tensor(-0.3547)  ~  tensor(0.3275)\n"
     ]
    },
    {
     "data": {
      "image/png": "[encoded data removed]",
      "text/plain": [
       "<Figure size 432x288 with 1 Axes>"
      ]
     },
     "metadata": {
      "needs_background": "light",
      "tags": []
     },
     "output_type": "display_data"
    },
    {
     "name": "stdout",
     "output_type": "stream",
     "text": [
      "fc1_weights range : tensor(-0.2565)  ~  tensor(0.2518)\n",
      "fc1_weights mean : tensor(-0.0027)\n",
      "fc1_weights std : tensor(0.0426)\n",
      "fc1_weights 3 sigma range : tensor(-0.1306)  ~  tensor(0.1251)\n"
     ]
    },
    {
     "data": {
      "image/png": "[encoded data removed]",
      "text/plain": [
       "<Figure size 432x288 with 1 Axes>"
      ]
     },
     "metadata": {
      "needs_background": "light",
      "tags": []
     },
     "output_type": "display_data"
    },
    {
     "name": "stdout",
     "output_type": "stream",
     "text": [
      "fc2_weights range : tensor(-0.2057)  ~  tensor(0.2465)\n",
      "fc2_weights mean : tensor(-0.0027)\n",
      "fc2_weights std : tensor(0.0648)\n",
      "fc2_weights 3 sigma range : tensor(-0.1972)  ~  tensor(0.1918)\n"
     ]
    },
    {
     "data": {
      "image/png": "[encoded data removed]",
      "text/plain": [
       "<Figure size 432x288 with 1 Axes>"
      ]
     },
     "metadata": {
      "needs_background": "light",
      "tags": []
     },
     "output_type": "display_data"
    },
    {
     "name": "stdout",
     "output_type": "stream",
     "text": [
      "fc3_weights range : tensor(-0.3990)  ~  tensor(0.3998)\n",
      "fc3_weights mean : tensor(0.0036)\n",
      "fc3_weights std : tensor(0.1288)\n",
      "fc3_weights 3 sigma range : tensor(-0.3829)  ~  tensor(0.3901)\n"
     ]
    }
   ],
   "source": [
    "# ADD YOUR CODE HERE to plot distributions of weights\n",
    "\n",
    "# You can get a flattened vector of the weights of fc1 like this:\n",
    "#   fc1_weights = net.fc1.weight.data.cpu().view(-1)\n",
    "# Try plotting a histogram of fc1_weights (and the weights of all the other layers as well)\n",
    "conv1_weights = net.conv1.weight.data.cpu().view(-1)\n",
    "conv2_weights = net.conv2.weight.data.cpu().view(-1)\n",
    "fc1_weights = net.fc1.weight.data.cpu().view(-1)\n",
    "fc2_weights = net.fc2.weight.data.cpu().view(-1)\n",
    "fc3_weights = net.fc3.weight.data.cpu().view(-1)\n",
    "\n",
    "plt.title(\"conv1_weights\")\n",
    "plt.hist(conv1_weights)\n",
    "plt.show()\n",
    "print(\"conv1_weights range :\", conv1_weights.min(), \" ~ \", conv1_weights.max())\n",
    "print(\"conv1_weights mean :\", conv1_weights.mean())\n",
    "print(\"conv1_weights std :\", conv1_weights.std())\n",
    "print(\"conv1_weights 3 sigma range :\", conv1_weights.mean() - 3 * conv1_weights.std(), \" ~ \", conv1_weights.mean() + 3 * conv1_weights.std())\n",
    "\n",
    "plt.title(\"conv2_weights\")\n",
    "plt.hist(conv2_weights)\n",
    "plt.show()\n",
    "print(\"conv2_weights range :\", conv2_weights.min(), \" ~ \", conv2_weights.max())\n",
    "print(\"conv2_weights mean :\", conv2_weights.mean())\n",
    "print(\"conv2_weights std :\", conv2_weights.std())\n",
    "print(\"conv2_weights 3 sigma range :\", conv2_weights.mean() - 3 * conv2_weights.std(), \" ~ \", conv2_weights.mean() + 3 * conv2_weights.std())\n",
    "\n",
    "\n",
    "plt.title(\"fc1_weights\")\n",
    "plt.hist(fc1_weights)\n",
    "plt.show()\n",
    "print(\"fc1_weights range :\", fc1_weights.min(), \" ~ \", fc1_weights.max())\n",
    "print(\"fc1_weights mean :\", fc1_weights.mean())\n",
    "print(\"fc1_weights std :\", fc1_weights.std())\n",
    "print(\"fc1_weights 3 sigma range :\", fc1_weights.mean() - 3 * fc1_weights.std(), \" ~ \", fc1_weights.mean() + 3 * fc1_weights.std())\n",
    "\n",
    "\n",
    "plt.title(\"fc2_weights\")\n",
    "plt.hist(fc2_weights)\n",
    "plt.show()\n",
    "print(\"fc2_weights range :\", fc2_weights.min(), \" ~ \", fc2_weights.max())\n",
    "print(\"fc2_weights mean :\", fc2_weights.mean())\n",
    "print(\"fc2_weights std :\", fc2_weights.std())\n",
    "print(\"fc2_weights 3 sigma range :\", fc2_weights.mean() - 3 * fc2_weights.std(), \" ~ \", fc2_weights.mean() + 3 * fc2_weights.std())\n",
    "\n",
    "\n",
    "plt.title(\"fc3_weights\")\n",
    "plt.hist(fc3_weights)\n",
    "plt.show()\n",
    "print(\"fc3_weights range :\", fc3_weights.min(), \" ~ \", fc3_weights.max())\n",
    "print(\"fc3_weights mean :\", fc3_weights.mean())\n",
    "print(\"fc3_weights std :\", fc3_weights.std())\n",
    "print(\"fc3_weights 3 sigma range :\", fc3_weights.mean() - 3 * fc3_weights.std(), \" ~ \", fc3_weights.mean() + 3 * fc3_weights.std())\n",
    "\n"
   ]
  },
  {
   "cell_type": "markdown",
   "metadata": {
    "id": "2hKjshaHD11m"
   },
   "source": [
    "# Question 2: Quantize Weights"
   ]
  },
  {
   "cell_type": "code",
   "execution_count": 11,
   "metadata": {
    "id": "qXNk1fXuPGjB"
   },
   "outputs": [],
   "source": [
    "net_q2 = copy_model(net)"
   ]
  },
  {
   "cell_type": "code",
   "execution_count": 12,
   "metadata": {
    "id": "GIBrqSFrVi5x"
   },
   "outputs": [],
   "source": [
    "from typing import Tuple\n",
    "\n",
    "def quantized_weights(weights: torch.Tensor) -> Tuple[torch.Tensor, float]:\n",
    "    '''\n",
    "    Quantize the weights so that all values are integers between -128 and 127.\n",
    "    You may want to use the total range, 3-sigma range, or some other range when\n",
    "    deciding just what factors to scale the float32 values by.\n",
    "\n",
    "    Parameters:\n",
    "    weights (Tensor): The unquantized weights\n",
    "\n",
    "    Returns:\n",
    "    (Tensor, float): A tuple with the following elements:\n",
    "                        * The weights in quantized form, where every value is an integer between -128 and 127.\n",
    "                          The \"dtype\" will still be \"float\", but the values themselves should all be integers.\n",
    "                        * The scaling factor that your weights were multiplied by.\n",
    "                          This value does not need to be an 8-bit integer.\n",
    "    '''\n",
    "\n",
    "    # ADD YOUR CODE HERE\n",
    "\n",
    "    # --------------------------------------------------------------------\n",
    "    # Adopt the symmetric quantization which is easier.\n",
    "    # - Two options can be applied: total range and 3-sigma range.\n",
    "    # - Floating-point numbers can be mapped to 8bit integers [-128, 127]\n",
    "    # --------------------------------------------------------------------\n",
    "    max = torch.max(weights)\n",
    "    min = torch.min(weights)\n",
    "    if torch.abs(max) > torch.abs(min):\n",
    "      min = max * -1\n",
    "    else:\n",
    "      max = min * -1\n",
    "    scale = 128 / max\n",
    "    result = (weights * scale).round()\n",
    "    return torch.clamp(result, min=-128, max=127), scale"
   ]
  },
  {
   "cell_type": "code",
   "execution_count": 13,
   "metadata": {
    "id": "orOwTnXxU1nb"
   },
   "outputs": [],
   "source": [
    "def quantize_layer_weights(model: nn.Module):\n",
    "    for layer in model.children():\n",
    "        if isinstance(layer, nn.Conv2d) or isinstance(layer, nn.Linear):\n",
    "            q_layer_data, scale = quantized_weights(layer.weight.data)\n",
    "            q_layer_data = q_layer_data.to(device)\n",
    "\n",
    "            layer.weight.data = q_layer_data\n",
    "            layer.weight.scale = scale\n",
    "\n",
    "            if (q_layer_data < -128).any() or (q_layer_data > 127).any():\n",
    "                raise Exception(\"Quantized weights of {} layer include values out of bounds for an 8-bit signed integer\".format(layer.__class__.__name__))\n",
    "            if (q_layer_data != q_layer_data.round()).any():\n",
    "                raise Exception(\"Quantized weights of {} layer include non-integer values\".format(layer.__class__.__name__))\n",
    "\n",
    "quantize_layer_weights(net_q2)"
   ]
  },
  {
   "cell_type": "code",
   "execution_count": 14,
   "metadata": {
    "colab": {
     "base_uri": "https://localhost:8080/"
    },
    "id": "wE3HqeBKVoYR",
    "outputId": "9a17f190-5953-497d-e7f0-a0d8194c9d64"
   },
   "outputs": [
    {
     "name": "stdout",
     "output_type": "stream",
     "text": [
      "Accuracy of the network after quantizing all weights: 54.73%\n"
     ]
    }
   ],
   "source": [
    "score = test(net_q2, testloader)\n",
    "print('Accuracy of the network after quantizing all weights: {}%'.format(score))"
   ]
  },
  {
   "cell_type": "markdown",
   "metadata": {
    "id": "xg7bfTF1bBVe"
   },
   "source": [
    "# Question 3: Visualize Activations"
   ]
  },
  {
   "cell_type": "code",
   "execution_count": 15,
   "metadata": {
    "id": "HP587b0QYxe9"
   },
   "outputs": [],
   "source": [
    "def register_activation_profiling_hooks(model: Net):\n",
    "    model.input_activations = np.empty(0)\n",
    "    model.conv1.activations = np.empty(0)\n",
    "    model.conv2.activations = np.empty(0)\n",
    "    model.fc1.activations = np.empty(0)\n",
    "    model.fc2.activations = np.empty(0)\n",
    "    model.fc3.activations = np.empty(0)\n",
    "\n",
    "    model.profile_activations = True\n",
    "\n",
    "    def conv1_activations_hook(layer, x, y):\n",
    "        if model.profile_activations:\n",
    "            model.input_activations = np.append(model.input_activations, x[0].cpu().view(-1))\n",
    "    model.conv1.register_forward_hook(conv1_activations_hook)\n",
    "\n",
    "    def conv2_activations_hook(layer, x, y):\n",
    "        if model.profile_activations:\n",
    "            model.conv1.activations = np.append(model.conv1.activations, x[0].cpu().view(-1))\n",
    "    model.conv2.register_forward_hook(conv2_activations_hook)\n",
    "\n",
    "    def fc1_activations_hook(layer, x, y):\n",
    "        if model.profile_activations:\n",
    "            model.conv2.activations = np.append(model.conv2.activations, x[0].cpu().view(-1))\n",
    "    model.fc1.register_forward_hook(fc1_activations_hook)\n",
    "\n",
    "    def fc2_activations_hook(layer, x, y):\n",
    "        if model.profile_activations:\n",
    "            model.fc1.activations = np.append(model.fc1.activations, x[0].cpu().view(-1))\n",
    "    model.fc2.register_forward_hook(fc2_activations_hook)\n",
    "\n",
    "    def fc3_activations_hook(layer, x, y):\n",
    "        if model.profile_activations:\n",
    "            model.fc2.activations = np.append(model.fc2.activations, x[0].cpu().view(-1))\n",
    "            model.fc3.activations = np.append(model.fc3.activations, y[0].cpu().view(-1))\n",
    "    model.fc3.register_forward_hook(fc3_activations_hook)\n"
   ]
  },
  {
   "cell_type": "code",
   "execution_count": 16,
   "metadata": {
    "id": "PVvPCIoabLC7"
   },
   "outputs": [],
   "source": [
    "net_q3 = copy_model(net)\n",
    "register_activation_profiling_hooks(net_q3)\n",
    "\n",
    "# Run through the training dataset again while profiling the input and output activations this time\n",
    "# We don't actually have to perform gradient descent for this, so we can use the \"test\" function\n",
    "test(net_q3, trainloader, max_samples=400)\n",
    "net_q3.profile_activations = False"
   ]
  },
  {
   "cell_type": "code",
   "execution_count": 17,
   "metadata": {
    "id": "m1HnYsuAMoxP"
   },
   "outputs": [],
   "source": [
    "input_activations = net_q3.input_activations\n",
    "conv1_output_activations = net_q3.conv1.activations\n",
    "conv2_output_activations = net_q3.conv2.activations\n",
    "fc1_output_activations = net_q3.fc1.activations\n",
    "fc2_output_activations = net_q3.fc2.activations\n",
    "fc3_output_activations = net_q3.fc3.activations"
   ]
  },
  {
   "cell_type": "code",
   "execution_count": 18,
   "metadata": {
    "colab": {
     "base_uri": "https://localhost:8080/",
     "height": 1000
    },
    "id": "AEo8VK46bwjn",
    "outputId": "1ed0e592-193a-48f2-8e4c-2806ed47de25"
   },
   "outputs": [
    {
     "data": {
      "image/png": "[encoded data removed]",
      "text/plain": [
       "<Figure size 432x288 with 1 Axes>"
      ]
     },
     "metadata": {
      "needs_background": "light",
      "tags": []
     },
     "output_type": "display_data"
    },
    {
     "name": "stdout",
     "output_type": "stream",
     "text": [
      "input_activations range : -1.0  ~  1.0\n",
      "input_activations 3-sigma : -1.5528345146293245  ~  1.408439016914745\n"
     ]
    },
    {
     "data": {
      "image/png": "[encoded data removed]",
      "text/plain": [
       "<Figure size 432x288 with 1 Axes>"
      ]
     },
     "metadata": {
      "needs_background": "light",
      "tags": []
     },
     "output_type": "display_data"
    },
    {
     "name": "stdout",
     "output_type": "stream",
     "text": [
      "conv1_output_activations range : 0.0  ~  10.311789512634277\n",
      "conv1_output_activations 3-sigma : -1.8862023280024416  ~  3.064704025538172\n"
     ]
    },
    {
     "data": {
      "image/png": "[encoded data removed]",
      "text/plain": [
       "<Figure size 432x288 with 1 Axes>"
      ]
     },
     "metadata": {
      "needs_background": "light",
      "tags": []
     },
     "output_type": "display_data"
    },
    {
     "name": "stdout",
     "output_type": "stream",
     "text": [
      "conv2_output_activations range : 0.0  ~  12.390034675598145\n",
      "conv2_output_activations 3-sigma : -2.685442292863699  ~  3.897360805502782\n"
     ]
    },
    {
     "data": {
      "image/png": "[encoded data removed]",
      "text/plain": [
       "<Figure size 432x288 with 1 Axes>"
      ]
     },
     "metadata": {
      "needs_background": "light",
      "tags": []
     },
     "output_type": "display_data"
    },
    {
     "name": "stdout",
     "output_type": "stream",
     "text": [
      "fc1_output_activations range : 0.0  ~  10.740265846252441\n",
      "fc1_output_activations 3-sigma : -2.1703381009182108  ~  2.9895557461303444\n"
     ]
    },
    {
     "data": {
      "image/png": "[encoded data removed]",
      "text/plain": [
       "<Figure size 432x288 with 1 Axes>"
      ]
     },
     "metadata": {
      "needs_background": "light",
      "tags": []
     },
     "output_type": "display_data"
    },
    {
     "name": "stdout",
     "output_type": "stream",
     "text": [
      "fc2_output_activations range : 0.0  ~  7.093179225921631\n",
      "fc2_output_activations 3-sigma : -1.5177035164647503  ~  2.1374387580102137\n"
     ]
    },
    {
     "data": {
      "image/png": "[encoded data removed]",
      "text/plain": [
       "<Figure size 432x288 with 1 Axes>"
      ]
     },
     "metadata": {
      "needs_background": "light",
      "tags": []
     },
     "output_type": "display_data"
    },
    {
     "name": "stdout",
     "output_type": "stream",
     "text": [
      "fc3_output_activations range : -6.521683216094971  ~  9.811284065246582\n",
      "fc3_output_activations 3-sigma : -6.669481755249702  ~  6.907087463581899\n"
     ]
    }
   ],
   "source": [
    "# ADD YOUR CODE HERE to plot distributions of activations\n",
    "\n",
    "# Plot histograms of the following variables.  Calculate their ranges and 3-sigma ranges:\n",
    "#   input_activations\n",
    "#   conv1_output_activations\n",
    "#   conv2_output_activations      \n",
    "#   fc1_output_activations\n",
    "#   fc2_output_activations\n",
    "#   fc3_output_activations\n",
    "plt.title(\"input_activations\")\n",
    "plt.hist(input_activations) \n",
    "plt.show()\n",
    "print(\"input_activations range :\", input_activations.min(), \" ~ \", input_activations.max())\n",
    "print(\"input_activations 3-sigma :\", input_activations.mean() - 3 * input_activations.std(), \" ~ \", input_activations.mean() + 3 * input_activations.std())\n",
    "\n",
    "plt.title(\"conv1_output_activations\")\n",
    "plt.hist(conv1_output_activations)\n",
    "plt.show()\n",
    "print(\"conv1_output_activations range :\", conv1_output_activations.min(), \" ~ \", conv1_output_activations.max())\n",
    "print(\"conv1_output_activations 3-sigma :\", conv1_output_activations.mean() - 3 * conv1_output_activations.std(), \" ~ \", conv1_output_activations.mean() + 3 * conv1_output_activations.std())\n",
    "\n",
    "plt.title(\"conv2_output_activations\")\n",
    "plt.hist(conv2_output_activations)\n",
    "plt.show()\n",
    "print(\"conv2_output_activations range :\", conv2_output_activations.min(), \" ~ \", conv2_output_activations.max())\n",
    "print(\"conv2_output_activations 3-sigma :\", conv2_output_activations.mean() - 3 * conv2_output_activations.std(), \" ~ \", conv2_output_activations.mean() + 3 * conv2_output_activations.std())\n",
    "\n",
    "plt.title(\"fc1_output_activations\")\n",
    "plt.hist(fc1_output_activations)\n",
    "plt.show()\n",
    "print(\"fc1_output_activations range :\", fc1_output_activations.min(), \" ~ \", fc1_output_activations.max())\n",
    "print(\"fc1_output_activations 3-sigma :\", fc1_output_activations.mean() - 3 * fc1_output_activations.std(), \" ~ \", fc1_output_activations.mean() + 3 * fc1_output_activations.std())\n",
    "\n",
    "plt.title(\"fc2_output_activations\")\n",
    "plt.hist(fc2_output_activations)\n",
    "plt.show()\n",
    "print(\"fc2_output_activations range :\", fc2_output_activations.min(), \" ~ \", fc2_output_activations.max())\n",
    "print(\"fc2_output_activations 3-sigma :\", fc2_output_activations.mean() - 3 * fc2_output_activations.std(), \" ~ \", fc2_output_activations.mean() + 3 * fc2_output_activations.std())\n",
    "\n",
    "plt.title(\"fc3_output_activations\")\n",
    "plt.hist(fc3_output_activations)\n",
    "plt.show()\n",
    "print(\"fc3_output_activations range :\", fc3_output_activations.min(), \" ~ \", fc3_output_activations.max())\n",
    "print(\"fc3_output_activations 3-sigma :\", fc3_output_activations.mean() - 3 * fc3_output_activations.std(), \" ~ \", fc3_output_activations.mean() + 3 * fc3_output_activations.std())\n",
    "\n"
   ]
  },
  {
   "cell_type": "markdown",
   "metadata": {
    "id": "haiPVx4ibEra"
   },
   "source": [
    "# Question 4: Quantize Activations"
   ]
  },
  {
   "cell_type": "code",
   "execution_count": 19,
   "metadata": {
    "id": "zLjSp7hsXofq"
   },
   "outputs": [],
   "source": [
    "from typing import List\n",
    "\n",
    "class NetQuantized(nn.Module):\n",
    "    def __init__(self, net_with_weights_quantized: nn.Module):\n",
    "        super(NetQuantized, self).__init__()\n",
    "        \n",
    "        net_init = copy_model(net_with_weights_quantized)\n",
    "\n",
    "        self.conv1 = net_init.conv1\n",
    "        self.pool = net_init.pool\n",
    "        self.conv2 = net_init.conv2\n",
    "        self.fc1 = net_init.fc1\n",
    "        self.fc2 = net_init.fc2\n",
    "        self.fc3 = net_init.fc3\n",
    "\n",
    "        for layer in self.conv1, self.conv2, self.fc1, self.fc2, self.fc3:\n",
    "            def pre_hook(l, x):\n",
    "                x = x[0]\n",
    "                if (x < -128).any() or (x > 127).any():\n",
    "                    raise Exception(\"Input to {} layer is out of bounds for an 8-bit signed integer\".format(l.__class__.__name__))\n",
    "                if (x != x.round()).any():\n",
    "                    raise Exception(\"Input to {} layer has non-integer values\".format(l.__class__.__name__))\n",
    "\n",
    "            layer.register_forward_pre_hook(pre_hook)\n",
    "\n",
    "        # Calculate the scaling factor for the initial input to the CNN\n",
    "        self.input_activations = net_with_weights_quantized.input_activations\n",
    "        self.input_scale = NetQuantized.quantize_initial_input(self.input_activations)\n",
    "\n",
    "        # Calculate the output scaling factors for all the layers of the CNN\n",
    "        preceding_layer_scales = []\n",
    "        for layer in self.conv1, self.conv2, self.fc1, self.fc2, self.fc3:\n",
    "            layer.output_scale = NetQuantized.quantize_activations(layer.activations, layer.weight.scale, self.input_scale, preceding_layer_scales)\n",
    "            preceding_layer_scales.append((layer.weight.scale, layer.output_scale))\n",
    "\n",
    "    @staticmethod\n",
    "    def quantize_initial_input(pixels: np.ndarray) -> float:\n",
    "        '''\n",
    "        Calculate a scaling factor for the images that are input to the first layer of the CNN.\n",
    "\n",
    "        Parameters:\n",
    "        pixels (ndarray): The values of all the pixels which were part of the input image during training\n",
    "\n",
    "        Returns:\n",
    "        float: A scaling factor that the input should be multiplied by before being fed into the first layer.\n",
    "               This value does not need to be an 8-bit integer.\n",
    "        '''\n",
    "\n",
    "        # ADD YOUR CODE HERE\n",
    "        # --------------------------------------------------------------------\n",
    "        # Other than the first layer, we do need to quantize input feature maps \n",
    "        # since they are the output feature maps from the previous layers.\n",
    "        # --------------------------------------------------------------------\n",
    "        max = np.max(pixels);\n",
    "        min = np.min(pixels);\n",
    "        if np.abs(max) > np.abs(min):\n",
    "          min = max * -1\n",
    "        else:\n",
    "          max = min * -1\n",
    "        scale = 128 / max  \n",
    "\n",
    "        # You may need to revise the following code to return correct values.\n",
    "        return scale\n",
    "\n",
    "    @staticmethod\n",
    "    def quantize_activations(activations: np.ndarray, n_w: float, n_initial_input: float, ns: List[Tuple[float, float]]) -> float:\n",
    "        '''\n",
    "        Calculate a scaling factor to multiply the output of a layer by.\n",
    "\n",
    "        Parameters:\n",
    "        activations (ndarray): The values of all the pixels which have been output by this layer during training\n",
    "        n_w (float): The scale by which the weights of this layer were multiplied as part of the \"quantize_weights\" function you wrote earlier\n",
    "        n_initial_input (float): The scale by which the initial input to the neural network was multiplied\n",
    "        ns ([(float, float)]): A list of tuples, where each tuple represents the \"weight scale\" and \"output scale\" (in that order) for every preceding layer\n",
    "\n",
    "        Returns:\n",
    "        float: A scaling factor that the layer output should be multiplied by before being fed into the first layer.\n",
    "               This value does not need to be an 8-bit integer.\n",
    "        '''\n",
    "\n",
    "        # ADD YOUR CODE HERE\n",
    "        if not ns:\n",
    "          output_scale = n_w * n_initial_input\n",
    "          activations = np.multiply(activations, output_scale.cpu())\n",
    "          max = torch.max(activations)\n",
    "          min = torch.min(activations)\n",
    "          if torch.abs(max) > torch.abs(min):\n",
    "            min = max * -1\n",
    "          else:\n",
    "            max = min * -1\n",
    "          scale = 128 / max\n",
    "        else:\n",
    "          output_scale = n_w * n_initial_input\n",
    "          for idx in range(len(ns)):\n",
    "            output_scale = output_scale * ns[idx][0] * ns[idx][1]\n",
    "          activations = np.multiply(activations, output_scale.cpu())\n",
    "          max = torch.max(activations)\n",
    "          min = torch.min(activations)\n",
    "          \n",
    "          if torch.abs(max) > torch.abs(min):\n",
    "            min = max * -1\n",
    "          else:\n",
    "            max = min * -1\n",
    "          scale = 128 / max\n",
    "        # You may need to revise the following code to return correct values.\n",
    "\n",
    "        return float(scale)\n",
    "\n",
    "    def forward(self, x: torch.Tensor) -> torch.Tensor:\n",
    "        # You can access the output activation scales like this:\n",
    "        #   fc1_output_scale = self.fc1.output_scale\n",
    "\n",
    "        # To make sure that the outputs of each layer are integers between -128 and 127, you may need to use the following functions:\n",
    "        #   * torch.Tensor.round\n",
    "        #   * torch.clamp\n",
    "\n",
    "        # ADD YOUR CODE HERE\n",
    "        input_scale = self.input_scale\n",
    "        conv1_output_scale = self.conv1.output_scale\n",
    "        conv2_output_scale = self.conv2.output_scale\n",
    "        fc1_output_scale = self.fc1.output_scale\n",
    "        fc2_output_scale = self.fc2.output_scale\n",
    "        fc3_output_scale = self.fc3.output_scale\n",
    "\n",
    "        # input\n",
    "        x = (x * input_scale).round()\n",
    "        x = torch.clamp(x, min=-128, max=127)\n",
    "\n",
    "        # conv1\n",
    "        x = self.pool(F.relu(self.conv1(x)))\n",
    "        x = (x * conv1_output_scale).round()\n",
    "        x = torch.clamp(x, min=-128, max=127)\n",
    "        \n",
    "        # conv2\n",
    "        x = self.pool(F.relu(self.conv2(x)))\n",
    "        x = (x * conv2_output_scale).round()\n",
    "        x = torch.clamp(x, min=-128, max=127)\n",
    "\n",
    "        x = x.view(-1, 16 * 5 * 5)\n",
    "      \n",
    "        # fc1\n",
    "        x = F.relu(self.fc1(x))\n",
    "        x = (x * fc1_output_scale).round()\n",
    "        x = torch.clamp(x, min=-128, max=127)\n",
    "\n",
    "        # fc2\n",
    "        x = F.relu(self.fc2(x))\n",
    "        x = (x * fc2_output_scale).round()\n",
    "        x = torch.clamp(x, min=-128, max=127)\n",
    "\n",
    "        # fc3\n",
    "        x = self.fc3(x)\n",
    "        x = (x * fc3_output_scale).round()\n",
    "        x = torch.clamp(x, min=-128, max=127)\n",
    "        \n",
    "        # You may need to revise the following code to return correct values.\n",
    "        return x"
   ]
  },
  {
   "cell_type": "code",
   "execution_count": 20,
   "metadata": {
    "id": "13CpHgvE994J"
   },
   "outputs": [],
   "source": [
    "# Merge the information from net_q2 and net_q3 together\n",
    "net_init = copy_model(net_q2)\n",
    "net_init.input_activations = deepcopy(net_q3.input_activations)\n",
    "for layer_init, layer_q3 in zip(net_init.children(), net_q3.children()):\n",
    "    if isinstance(layer_init, nn.Conv2d) or isinstance(layer_init, nn.Linear):\n",
    "        layer_init.activations = deepcopy(layer_q3.activations)\n",
    "\n",
    "net_quantized = NetQuantized(net_init)"
   ]
  },
  {
   "cell_type": "code",
   "execution_count": 21,
   "metadata": {
    "colab": {
     "base_uri": "https://localhost:8080/"
    },
    "id": "VcBXEodN6hrY",
    "outputId": "5da29886-3442-4640-ee3c-0200bf5b9c6c"
   },
   "outputs": [
    {
     "name": "stdout",
     "output_type": "stream",
     "text": [
      "Accuracy of the network after quantizing both weights and activations: 54.53%\n"
     ]
    }
   ],
   "source": [
    "score = test(net_quantized, testloader)\n",
    "print('Accuracy of the network after quantizing both weights and activations: {}%'.format(score))"
   ]
  },
  {
   "cell_type": "markdown",
   "metadata": {
    "id": "1jTOL7scbMs7"
   },
   "source": [
    "# Question 5: Quantize Biases"
   ]
  },
  {
   "cell_type": "code",
   "execution_count": 22,
   "metadata": {
    "id": "bvv9-k1HPbgz"
   },
   "outputs": [],
   "source": [
    "class NetWithBias(nn.Module):\n",
    "    def __init__(self):\n",
    "        super(NetWithBias, self).__init__()\n",
    "\n",
    "        self.conv1 = nn.Conv2d(3, 6, 5, bias=False)\n",
    "        self.pool = nn.MaxPool2d(2, 2)\n",
    "        self.conv2 = nn.Conv2d(6, 16, 5, bias=False)\n",
    "        self.fc1 = nn.Linear(16 * 5 * 5, 120, bias=False)\n",
    "        self.fc2 = nn.Linear(120, 84, bias=False)\n",
    "        self.fc3 = nn.Linear(84, 10, bias=True)\n",
    "\n",
    "    def forward(self, x: torch.Tensor) -> torch.Tensor:\n",
    "        x = self.pool(F.relu(self.conv1(x)))\n",
    "        x = self.pool(F.relu(self.conv2(x)))\n",
    "        x = x.view(-1, 16 * 5 * 5)\n",
    "        x = F.relu(self.fc1(x))\n",
    "        x = F.relu(self.fc2(x))\n",
    "        x = self.fc3(x)\n",
    "        return x\n",
    "\n",
    "net_with_bias = NetWithBias().to(device)"
   ]
  },
  {
   "cell_type": "code",
   "execution_count": 23,
   "metadata": {
    "colab": {
     "base_uri": "https://localhost:8080/"
    },
    "id": "wjk3hEQaVDpq",
    "outputId": "1bc133ff-64ee-4f2d-f4f8-38eaef8c233a"
   },
   "outputs": [
    {
     "name": "stdout",
     "output_type": "stream",
     "text": [
      "[1,  2000] loss: 2.219\n",
      "[1,  4000] loss: 1.916\n",
      "[1,  6000] loss: 1.713\n",
      "[1,  8000] loss: 1.605\n",
      "[1, 10000] loss: 1.519\n",
      "[1, 12000] loss: 1.494\n",
      "[2,  2000] loss: 1.440\n",
      "[2,  4000] loss: 1.401\n",
      "[2,  6000] loss: 1.363\n",
      "[2,  8000] loss: 1.351\n",
      "[2, 10000] loss: 1.330\n",
      "[2, 12000] loss: 1.309\n",
      "Finished Training\n"
     ]
    }
   ],
   "source": [
    "train(net_with_bias, trainloader)"
   ]
  },
  {
   "cell_type": "code",
   "execution_count": 24,
   "metadata": {
    "colab": {
     "base_uri": "https://localhost:8080/"
    },
    "id": "9vLUCDnnVf4R",
    "outputId": "1aa57b18-0fd8-482c-b9cd-5a0376778682"
   },
   "outputs": [
    {
     "name": "stdout",
     "output_type": "stream",
     "text": [
      "Accuracy of the network (with a bias) on the test images: 54.59%\n"
     ]
    }
   ],
   "source": [
    "score = test(net_with_bias, testloader)\n",
    "print('Accuracy of the network (with a bias) on the test images: {}%'.format(score))"
   ]
  },
  {
   "cell_type": "code",
   "execution_count": 25,
   "metadata": {
    "id": "U_ZiJk6yEEM-"
   },
   "outputs": [],
   "source": [
    "register_activation_profiling_hooks(net_with_bias)\n",
    "test(net_with_bias, trainloader, max_samples=400)\n",
    "net_with_bias.profile_activations = False"
   ]
  },
  {
   "cell_type": "code",
   "execution_count": 26,
   "metadata": {
    "colab": {
     "base_uri": "https://localhost:8080/"
    },
    "id": "yZwk8KLtAUAM",
    "outputId": "8c9b158e-766e-41ee-c73e-f3fedb83518c"
   },
   "outputs": [
    {
     "name": "stdout",
     "output_type": "stream",
     "text": [
      "Accuracy of the network on the test images after all the weights are quantized but the bias isn't: 50.74%\n"
     ]
    }
   ],
   "source": [
    "net_with_bias_with_quantized_weights = copy_model(net_with_bias)\n",
    "quantize_layer_weights(net_with_bias_with_quantized_weights)\n",
    "\n",
    "score = test(net_with_bias_with_quantized_weights, testloader)\n",
    "print('Accuracy of the network on the test images after all the weights are quantized but the bias isn\\'t: {}%'.format(score))"
   ]
  },
  {
   "cell_type": "code",
   "execution_count": 27,
   "metadata": {
    "id": "mO2Gdu_tEZ4v"
   },
   "outputs": [],
   "source": [
    "class NetQuantizedWithBias(NetQuantized):\n",
    "    def __init__(self, net_with_weights_quantized: nn.Module):\n",
    "        super(NetQuantizedWithBias, self).__init__(net_with_weights_quantized)\n",
    "\n",
    "        preceding_scales = [(layer.weight.scale, layer.output_scale) for layer in self.children() if isinstance(layer, nn.Conv2d) or isinstance(layer, nn.Linear)][:-1]\n",
    "\n",
    "        self.fc3.bias.data = NetQuantizedWithBias.quantized_bias(\n",
    "            self.fc3.bias.data,\n",
    "            self.fc3.weight.scale,\n",
    "            self.input_scale,\n",
    "            preceding_scales\n",
    "        )\n",
    "\n",
    "        if (self.fc3.bias.data < -2147483648).any() or (self.fc3.bias.data > 2147483647).any():\n",
    "            raise Exception(\"Bias has values which are out of bounds for an 32-bit signed integer\")\n",
    "        if (self.fc3.bias.data != self.fc3.bias.data.round()).any():\n",
    "            raise Exception(\"Bias has non-integer values\")\n",
    "\n",
    "    @staticmethod\n",
    "    def quantized_bias(bias: torch.Tensor, n_w: float, n_initial_input: float, ns: List[Tuple[float, float]]) -> torch.Tensor:\n",
    "        '''\n",
    "        Quantize the bias so that all values are integers between -2147483648 and 2147483647.\n",
    "\n",
    "        Parameters:\n",
    "        bias (Tensor): The floating point values of the bias\n",
    "        n_w (float): The scale by which the weights of this layer were multiplied\n",
    "        n_initial_input (float): The scale by which the initial input to the neural network was multiplied\n",
    "        ns ([(float, float)]): A list of tuples, where each tuple represents the \"weight scale\" and \"output scale\" (in that order) for every preceding layer\n",
    "\n",
    "        Returns:\n",
    "        Tensor: The bias in quantized form, where every value is an integer between -2147483648 and 2147483647.\n",
    "                The \"dtype\" will still be \"float\", but the values themselves should all be integers.\n",
    "        '''\n",
    "\n",
    "        # ADD YOUR CODE HERE\n",
    "        scale = n_w * n_initial_input\n",
    "        for idx in range(len(ns)):\n",
    "          scale = scale * ns[idx][0] * ns[idx][1]\n",
    "        \n",
    "        return torch.clamp((bias * scale).round(), min=-2147483648, max=2147483647)"
   ]
  },
  {
   "cell_type": "code",
   "execution_count": 28,
   "metadata": {
    "id": "TA6rXt3Q-zF8"
   },
   "outputs": [],
   "source": [
    "net_quantized_with_bias = NetQuantizedWithBias(net_with_bias_with_quantized_weights)"
   ]
  },
  {
   "cell_type": "code",
   "execution_count": 29,
   "metadata": {
    "colab": {
     "base_uri": "https://localhost:8080/"
    },
    "id": "UJvR6Wv_GJJX",
    "outputId": "98aad353-ecfa-4743-b0b7-c69df6c95c22"
   },
   "outputs": [
    {
     "name": "stdout",
     "output_type": "stream",
     "text": [
      "Accuracy of the network on the test images after all the weights and the bias are quantized: 54.54%\n"
     ]
    }
   ],
   "source": [
    "score = test(net_quantized_with_bias, testloader)\n",
    "print('Accuracy of the network on the test images after all the weights and the bias are quantized: {}%'.format(score))"
   ]
  },
  {
   "cell_type": "markdown",
   "metadata": {
    "id": "U_W-RCmHjlkg"
   },
   "source": [
    "# Extract the quantized CNN model\n",
    "\n",
    "\n"
   ]
  },
  {
   "cell_type": "code",
   "execution_count": 30,
   "metadata": {
    "id": "AllumB6-YI9B"
   },
   "outputs": [],
   "source": [
    "# Copy the quantized model with bias and save the weights\n",
    "inference_model = copy_model(net_quantized_with_bias)\n",
    "torch.save(inference_model.state_dict(), 'net_quantized_with_bias.pt')"
   ]
  },
  {
   "cell_type": "code",
   "execution_count": 31,
   "metadata": {
    "colab": {
     "base_uri": "https://localhost:8080/"
    },
    "id": "jWPqoj8tf0Rr",
    "outputId": "6de18257-9314-47a7-b717-be0302d3f837"
   },
   "outputs": [
    {
     "name": "stdout",
     "output_type": "stream",
     "text": [
      "Accuracy of the network after quantizing both weights and activations: 54.54%\n"
     ]
    }
   ],
   "source": [
    "# Check again to make sure it has the same accuray\n",
    "score = test(inference_model, testloader)\n",
    "print('Accuracy of the network after quantizing both weights and activations: {}%'.format(score))"
   ]
  },
  {
   "cell_type": "markdown",
   "metadata": {
    "id": "5TfpcnC60_g4"
   },
   "source": [
    "Use a random image as an input of the activations"
   ]
  },
  {
   "cell_type": "code",
   "execution_count": 32,
   "metadata": {
    "id": "CByZgw-ftMBD"
   },
   "outputs": [],
   "source": [
    "# Randomly choose an image as the input and get the output\n",
    "index = np.random.randint(0,10000)\n",
    "input, label = testset[index]\n",
    "output = inference_model(input.unsqueeze(0).cuda())"
   ]
  },
  {
   "cell_type": "markdown",
   "metadata": {
    "id": "x9M4QXt60WmL"
   },
   "source": [
    "Save the input/output activations to csv"
   ]
  },
  {
   "cell_type": "code",
   "execution_count": 33,
   "metadata": {
    "id": "WSIdYFyZshFj"
   },
   "outputs": [],
   "source": [
    "import os \n",
    "import zipfile\n",
    "# It is easier to download all the files with zip\n",
    "zf = zipfile.ZipFile('parameters.zip', 'w', zipfile.ZIP_DEFLATED)\n",
    "\n",
    "if not os.path.exists('./activations'):\n",
    "    os.mkdir('./activations')\n",
    "\n",
    "np.savetxt('./activations/input.csv', input.cpu().data.numpy().reshape(-1), delimiter=',')\n",
    "np.savetxt('./activations/output.csv', output.cpu().data.numpy().reshape(-1), delimiter=',')\n",
    "zf.write('./activations/input.csv')\n",
    "zf.write('./activations/output.csv')"
   ]
  },
  {
   "cell_type": "markdown",
   "metadata": {
    "id": "5jo_TlzE1dqy"
   },
   "source": [
    "Save the weights of each layer to CSV format"
   ]
  },
  {
   "cell_type": "code",
   "execution_count": 34,
   "metadata": {
    "colab": {
     "base_uri": "https://localhost:8080/"
    },
    "id": "27MD_hJUzlnf",
    "outputId": "50f02a10-1903-4abc-e64f-97eb8ad0ada0"
   },
   "outputs": [
    {
     "name": "stdout",
     "output_type": "stream",
     "text": [
      "conv1.weight with shape: torch.Size([6, 3, 5, 5])\n",
      "conv2.weight with shape: torch.Size([16, 6, 5, 5])\n",
      "fc1.weight with shape: torch.Size([120, 400])\n",
      "fc2.weight with shape: torch.Size([84, 120])\n",
      "fc3.weight with shape: torch.Size([10, 84])\n",
      "fc3.bias with shape: torch.Size([10])\n"
     ]
    }
   ],
   "source": [
    "if not os.path.exists('./weights'):\n",
    "    os.mkdir('./weights')\n",
    "    \n",
    "for name, weights in inference_model.state_dict().items():\n",
    "    print(name, 'with shape:' , weights.shape)\n",
    "    np.savetxt('./weights/%s.csv' %(name) , weights.cpu().reshape(-1), delimiter=',')\n",
    "    zf.write('./weights/%s.csv' %(name))"
   ]
  },
  {
   "cell_type": "markdown",
   "metadata": {
    "id": "mG9TAca-Jbg6"
   },
   "source": [
    "Record the sacling factors to json file"
   ]
  },
  {
   "cell_type": "code",
   "execution_count": 35,
   "metadata": {
    "id": "VNqV21YVimKD"
   },
   "outputs": [],
   "source": [
    "import json\n",
    "scales = {'input_scale':inference_model.input_scale, 'conv1_output_scale': inference_model.conv1.output_scale, 'conv2_output_scale':inference_model.conv2.output_scale,\n",
    "        'fc1_output_scale' :inference_model.fc1.output_scale, 'fc2_output_scale':inference_model.fc2.output_scale, 'fc3_output_scale':inference_model.fc3.output_scale}\n",
    "\n",
    "with open('scale.json', 'w', newline='') as jsonfile:\n",
    "    json.dump(scales, jsonfile)\n",
    "\n",
    "zf.write('./scale.json')"
   ]
  },
  {
   "cell_type": "markdown",
   "metadata": {
    "id": "HbUYA1VpKLAB"
   },
   "source": [
    "Close the zip file"
   ]
  },
  {
   "cell_type": "code",
   "execution_count": 36,
   "metadata": {
    "id": "BlOLRLdTJqcm"
   },
   "outputs": [],
   "source": [
    "zf.close()\n",
    "# Files are located on left-hand-side menubar.\n",
    "# You can downlaod them now. \n",
    "# Enjoy!"
   ]
  },
  {
   "cell_type": "code",
   "execution_count": 36,
   "metadata": {
    "id": "Jo_ojSTXdE77"
   },
   "outputs": [],
   "source": []
  }
 ],
 "metadata": {
  "accelerator": "GPU",
  "colab": {
   "collapsed_sections": [],
   "name": "hw1_107062107.ipynb",
   "provenance": []
  },
  "kernelspec": {
   "display_name": "Python 3",
   "language": "python",
   "name": "python3"
  },
  "language_info": {
   "codemirror_mode": {
    "name": "ipython",
    "version": 3
   },
   "file_extension": ".py",
   "mimetype": "text/x-python",
   "name": "python",
   "nbconvert_exporter": "python",
   "pygments_lexer": "ipython3",
   "version": "3.9.4"
  },
  "widgets": {
   "application/vnd.jupyter.widget-state+json": {
    "0f00480036cc40e8bd1893905b32a530": {
     "model_module": "@jupyter-widgets/base",
     "model_name": "LayoutModel",
     "state": {
      "_model_module": "@jupyter-widgets/base",
      "_model_module_version": "1.2.0",
      "_model_name": "LayoutModel",
      "_view_count": null,
      "_view_module": "@jupyter-widgets/base",
      "_view_module_version": "1.2.0",
      "_view_name": "LayoutView",
      "align_content": null,
      "align_items": null,
      "align_self": null,
      "border": null,
      "bottom": null,
      "display": null,
      "flex": null,
      "flex_flow": null,
      "grid_area": null,
      "grid_auto_columns": null,
      "grid_auto_flow": null,
      "grid_auto_rows": null,
      "grid_column": null,
      "grid_gap": null,
      "grid_row": null,
      "grid_template_areas": null,
      "grid_template_columns": null,
      "grid_template_rows": null,
      "height": null,
      "justify_content": null,
      "justify_items": null,
      "left": null,
      "margin": null,
      "max_height": null,
      "max_width": null,
      "min_height": null,
      "min_width": null,
      "object_fit": null,
      "object_position": null,
      "order": null,
      "overflow": null,
      "overflow_x": null,
      "overflow_y": null,
      "padding": null,
      "right": null,
      "top": null,
      "visibility": null,
      "width": null
     }
    },
    "0f6ebbec7d74495dac9791ddaf66d094": {
     "model_module": "@jupyter-widgets/controls",
     "model_name": "DescriptionStyleModel",
     "state": {
      "_model_module": "@jupyter-widgets/controls",
      "_model_module_version": "1.5.0",
      "_model_name": "DescriptionStyleModel",
      "_view_count": null,
      "_view_module": "@jupyter-widgets/base",
      "_view_module_version": "1.2.0",
      "_view_name": "StyleView",
      "description_width": ""
     }
    },
    "1be0e90dba3441949bbdbb2bf818c8a9": {
     "model_module": "@jupyter-widgets/controls",
     "model_name": "ProgressStyleModel",
     "state": {
      "_model_module": "@jupyter-widgets/controls",
      "_model_module_version": "1.5.0",
      "_model_name": "ProgressStyleModel",
      "_view_count": null,
      "_view_module": "@jupyter-widgets/base",
      "_view_module_version": "1.2.0",
      "_view_name": "StyleView",
      "bar_color": null,
      "description_width": "initial"
     }
    },
    "327face525f942e79f28c625e3c538d6": {
     "model_module": "@jupyter-widgets/base",
     "model_name": "LayoutModel",
     "state": {
      "_model_module": "@jupyter-widgets/base",
      "_model_module_version": "1.2.0",
      "_model_name": "LayoutModel",
      "_view_count": null,
      "_view_module": "@jupyter-widgets/base",
      "_view_module_version": "1.2.0",
      "_view_name": "LayoutView",
      "align_content": null,
      "align_items": null,
      "align_self": null,
      "border": null,
      "bottom": null,
      "display": null,
      "flex": null,
      "flex_flow": null,
      "grid_area": null,
      "grid_auto_columns": null,
      "grid_auto_flow": null,
      "grid_auto_rows": null,
      "grid_column": null,
      "grid_gap": null,
      "grid_row": null,
      "grid_template_areas": null,
      "grid_template_columns": null,
      "grid_template_rows": null,
      "height": null,
      "justify_content": null,
      "justify_items": null,
      "left": null,
      "margin": null,
      "max_height": null,
      "max_width": null,
      "min_height": null,
      "min_width": null,
      "object_fit": null,
      "object_position": null,
      "order": null,
      "overflow": null,
      "overflow_x": null,
      "overflow_y": null,
      "padding": null,
      "right": null,
      "top": null,
      "visibility": null,
      "width": null
     }
    },
    "981d0bef318b4ff797789b7b20d0e375": {
     "model_module": "@jupyter-widgets/base",
     "model_name": "LayoutModel",
     "state": {
      "_model_module": "@jupyter-widgets/base",
      "_model_module_version": "1.2.0",
      "_model_name": "LayoutModel",
      "_view_count": null,
      "_view_module": "@jupyter-widgets/base",
      "_view_module_version": "1.2.0",
      "_view_name": "LayoutView",
      "align_content": null,
      "align_items": null,
      "align_self": null,
      "border": null,
      "bottom": null,
      "display": null,
      "flex": null,
      "flex_flow": null,
      "grid_area": null,
      "grid_auto_columns": null,
      "grid_auto_flow": null,
      "grid_auto_rows": null,
      "grid_column": null,
      "grid_gap": null,
      "grid_row": null,
      "grid_template_areas": null,
      "grid_template_columns": null,
      "grid_template_rows": null,
      "height": null,
      "justify_content": null,
      "justify_items": null,
      "left": null,
      "margin": null,
      "max_height": null,
      "max_width": null,
      "min_height": null,
      "min_width": null,
      "object_fit": null,
      "object_position": null,
      "order": null,
      "overflow": null,
      "overflow_x": null,
      "overflow_y": null,
      "padding": null,
      "right": null,
      "top": null,
      "visibility": null,
      "width": null
     }
    },
    "aa67fcb9865741f9b4cdb437a0e85adb": {
     "model_module": "@jupyter-widgets/controls",
     "model_name": "HBoxModel",
     "state": {
      "_dom_classes": [],
      "_model_module": "@jupyter-widgets/controls",
      "_model_module_version": "1.5.0",
      "_model_name": "HBoxModel",
      "_view_count": null,
      "_view_module": "@jupyter-widgets/controls",
      "_view_module_version": "1.5.0",
      "_view_name": "HBoxView",
      "box_style": "",
      "children": [
       "IPY_MODEL_d5709ece3fad48ad991e8706320e7e8e",
       "IPY_MODEL_f2941dc8f87b4ff78e923d5410a9eab6"
      ],
      "layout": "IPY_MODEL_981d0bef318b4ff797789b7b20d0e375"
     }
    },
    "d5709ece3fad48ad991e8706320e7e8e": {
     "model_module": "@jupyter-widgets/controls",
     "model_name": "FloatProgressModel",
     "state": {
      "_dom_classes": [],
      "_model_module": "@jupyter-widgets/controls",
      "_model_module_version": "1.5.0",
      "_model_name": "FloatProgressModel",
      "_view_count": null,
      "_view_module": "@jupyter-widgets/controls",
      "_view_module_version": "1.5.0",
      "_view_name": "ProgressView",
      "bar_style": "success",
      "description": "",
      "description_tooltip": null,
      "layout": "IPY_MODEL_0f00480036cc40e8bd1893905b32a530",
      "max": 170498071,
      "min": 0,
      "orientation": "horizontal",
      "style": "IPY_MODEL_1be0e90dba3441949bbdbb2bf818c8a9",
      "value": 170498071
     }
    },
    "f2941dc8f87b4ff78e923d5410a9eab6": {
     "model_module": "@jupyter-widgets/controls",
     "model_name": "HTMLModel",
     "state": {
      "_dom_classes": [],
      "_model_module": "@jupyter-widgets/controls",
      "_model_module_version": "1.5.0",
      "_model_name": "HTMLModel",
      "_view_count": null,
      "_view_module": "@jupyter-widgets/controls",
      "_view_module_version": "1.5.0",
      "_view_name": "HTMLView",
      "description": "",
      "description_tooltip": null,
      "layout": "IPY_MODEL_327face525f942e79f28c625e3c538d6",
      "placeholder": "​",
      "style": "IPY_MODEL_0f6ebbec7d74495dac9791ddaf66d094",
      "value": " 170499072/? [00:06&lt;00:00, 25153195.40it/s]"
     }
    }
   }
  }
 },
 "nbformat": 4,
 "nbformat_minor": 1
}
